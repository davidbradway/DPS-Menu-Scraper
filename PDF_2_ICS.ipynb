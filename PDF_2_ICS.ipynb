{
  "nbformat": 4,
  "nbformat_minor": 0,
  "metadata": {
    "colab": {
      "provenance": []
    },
    "kernelspec": {
      "name": "python3",
      "display_name": "Python 3"
    },
    "language_info": {
      "name": "python"
    }
  },
  "cells": [
    {
      "cell_type": "code",
      "source": [
        "# This process is now automated for Elementary school Lunch in English and Spanish.\n",
        "# Just do Runtime > Run all (Ctrl+F9)\n",
        "# Then download the file and import it into Google Calendar, etc. Open the file menu on the left with the folder icon\n",
        "\n",
        "# If the fragile formatting code breaks, I may need to update things.\n",
        "# Also perhaps for a new calendar month format or for a menu type"
      ],
      "metadata": {
        "id": "t-rGiazRIeo_"
      },
      "execution_count": 1,
      "outputs": []
    },
    {
      "cell_type": "code",
      "source": [
        "# Install packages and libraries\n",
        "!pip install pypdf ics\n",
        "!pip install emoji nltk\n",
        "!pip install beautifulsoup4 requests"
      ],
      "metadata": {
        "colab": {
          "base_uri": "https://localhost:8080/"
        },
        "id": "HMv6IVNRYdbv",
        "outputId": "5412125b-a53f-4309-df22-218b0d55afb7"
      },
      "execution_count": 2,
      "outputs": [
        {
          "output_type": "stream",
          "name": "stdout",
          "text": [
            "Collecting pypdf\n",
            "  Downloading pypdf-5.2.0-py3-none-any.whl.metadata (7.2 kB)\n",
            "Collecting ics\n",
            "  Downloading ics-0.7.2-py2.py3-none-any.whl.metadata (4.2 kB)\n",
            "Requirement already satisfied: python-dateutil in /usr/local/lib/python3.11/dist-packages (from ics) (2.8.2)\n",
            "Collecting arrow>=0.11 (from ics)\n",
            "  Downloading arrow-1.3.0-py3-none-any.whl.metadata (7.5 kB)\n",
            "Requirement already satisfied: six>1.5 in /usr/local/lib/python3.11/dist-packages (from ics) (1.17.0)\n",
            "Collecting tatsu>4.2 (from ics)\n",
            "  Downloading TatSu-5.13.1-py3-none-any.whl.metadata (14 kB)\n",
            "Requirement already satisfied: attrs>=19.1.0 in /usr/local/lib/python3.11/dist-packages (from ics) (25.1.0)\n",
            "Collecting types-python-dateutil>=2.8.10 (from arrow>=0.11->ics)\n",
            "  Downloading types_python_dateutil-2.9.0.20241206-py3-none-any.whl.metadata (2.1 kB)\n",
            "Downloading pypdf-5.2.0-py3-none-any.whl (298 kB)\n",
            "\u001b[2K   \u001b[90m━━━━━━━━━━━━━━━━━━━━━━━━━━━━━━━━━━━━━━━━\u001b[0m \u001b[32m298.7/298.7 kB\u001b[0m \u001b[31m9.6 MB/s\u001b[0m eta \u001b[36m0:00:00\u001b[0m\n",
            "\u001b[?25hDownloading ics-0.7.2-py2.py3-none-any.whl (40 kB)\n",
            "\u001b[2K   \u001b[90m━━━━━━━━━━━━━━━━━━━━━━━━━━━━━━━━━━━━━━━━\u001b[0m \u001b[32m40.1/40.1 kB\u001b[0m \u001b[31m2.3 MB/s\u001b[0m eta \u001b[36m0:00:00\u001b[0m\n",
            "\u001b[?25hDownloading arrow-1.3.0-py3-none-any.whl (66 kB)\n",
            "\u001b[2K   \u001b[90m━━━━━━━━━━━━━━━━━━━━━━━━━━━━━━━━━━━━━━━━\u001b[0m \u001b[32m66.4/66.4 kB\u001b[0m \u001b[31m4.7 MB/s\u001b[0m eta \u001b[36m0:00:00\u001b[0m\n",
            "\u001b[?25hDownloading TatSu-5.13.1-py3-none-any.whl (80 kB)\n",
            "\u001b[2K   \u001b[90m━━━━━━━━━━━━━━━━━━━━━━━━━━━━━━━━━━━━━━━━\u001b[0m \u001b[32m80.2/80.2 kB\u001b[0m \u001b[31m5.9 MB/s\u001b[0m eta \u001b[36m0:00:00\u001b[0m\n",
            "\u001b[?25hDownloading types_python_dateutil-2.9.0.20241206-py3-none-any.whl (14 kB)\n",
            "Installing collected packages: types-python-dateutil, tatsu, pypdf, arrow, ics\n",
            "Successfully installed arrow-1.3.0 ics-0.7.2 pypdf-5.2.0 tatsu-5.13.1 types-python-dateutil-2.9.0.20241206\n",
            "Collecting emoji\n",
            "  Downloading emoji-2.14.1-py3-none-any.whl.metadata (5.7 kB)\n",
            "Requirement already satisfied: nltk in /usr/local/lib/python3.11/dist-packages (3.9.1)\n",
            "Requirement already satisfied: click in /usr/local/lib/python3.11/dist-packages (from nltk) (8.1.8)\n",
            "Requirement already satisfied: joblib in /usr/local/lib/python3.11/dist-packages (from nltk) (1.4.2)\n",
            "Requirement already satisfied: regex>=2021.8.3 in /usr/local/lib/python3.11/dist-packages (from nltk) (2024.11.6)\n",
            "Requirement already satisfied: tqdm in /usr/local/lib/python3.11/dist-packages (from nltk) (4.67.1)\n",
            "Downloading emoji-2.14.1-py3-none-any.whl (590 kB)\n",
            "\u001b[2K   \u001b[90m━━━━━━━━━━━━━━━━━━━━━━━━━━━━━━━━━━━━━━━━\u001b[0m \u001b[32m590.6/590.6 kB\u001b[0m \u001b[31m22.2 MB/s\u001b[0m eta \u001b[36m0:00:00\u001b[0m\n",
            "\u001b[?25hInstalling collected packages: emoji\n",
            "Successfully installed emoji-2.14.1\n",
            "Requirement already satisfied: beautifulsoup4 in /usr/local/lib/python3.11/dist-packages (4.12.3)\n",
            "Requirement already satisfied: requests in /usr/local/lib/python3.11/dist-packages (2.32.3)\n",
            "Requirement already satisfied: soupsieve>1.2 in /usr/local/lib/python3.11/dist-packages (from beautifulsoup4) (2.6)\n",
            "Requirement already satisfied: charset-normalizer<4,>=2 in /usr/local/lib/python3.11/dist-packages (from requests) (3.4.1)\n",
            "Requirement already satisfied: idna<4,>=2.5 in /usr/local/lib/python3.11/dist-packages (from requests) (3.10)\n",
            "Requirement already satisfied: urllib3<3,>=1.21.1 in /usr/local/lib/python3.11/dist-packages (from requests) (2.3.0)\n",
            "Requirement already satisfied: certifi>=2017.4.17 in /usr/local/lib/python3.11/dist-packages (from requests) (2024.12.14)\n"
          ]
        }
      ]
    },
    {
      "cell_type": "code",
      "execution_count": 3,
      "metadata": {
        "id": "1HLI6moPX_Tx",
        "colab": {
          "base_uri": "https://localhost:8080/"
        },
        "outputId": "f536126b-0df6-49af-be79-5960808951eb"
      },
      "outputs": [
        {
          "output_type": "stream",
          "name": "stderr",
          "text": [
            "[nltk_data] Downloading package wordnet to /root/nltk_data...\n"
          ]
        }
      ],
      "source": [
        "# prompt: use pydpf to read text from a pdf at a given url, parse the entries and create an ics-formatted text string for a calendar program import\n",
        "from urllib.request import urlopen\n",
        "from urllib.parse import urlparse, urlunparse, quote\n",
        "from io import BytesIO\n",
        "from pypdf import PdfReader\n",
        "from ics import Calendar, Event\n",
        "import ics\n",
        "from datetime import datetime\n",
        "import re\n",
        "import pytz\n",
        "import emoji\n",
        "import nltk\n",
        "nltk.download('wordnet')\n",
        "from nltk.stem import WordNetLemmatizer\n",
        "import requests\n",
        "from bs4 import BeautifulSoup\n",
        "\n",
        "# Create WordNetLemmatizer object\n",
        "wnl = WordNetLemmatizer()\n",
        "\n",
        "\n",
        "def get_all_links(url):\n",
        "    try:\n",
        "        # Send an HTTP GET request to the URL\n",
        "        response = requests.get(url)\n",
        "        # Check if the request was successful\n",
        "        response.raise_for_status()\n",
        "        # Parse the HTML content\n",
        "        soup = BeautifulSoup(response.text, 'html.parser')\n",
        "        # Find all anchor tags and extract the href attribute\n",
        "        links = [a.get('href') for a in soup.find_all('a', href=True)]\n",
        "        return links\n",
        "    except requests.exceptions.RequestException as e:\n",
        "        print(f\"Error fetching the URL: {e}\")\n",
        "        return []\n",
        "\n",
        "\n",
        "def url_to_text(pdf_url):\n",
        "    try:\n",
        "        remote_file = urlopen(pdf_url).read()\n",
        "        memory_file = BytesIO(remote_file)\n",
        "        reader = PdfReader(memory_file)\n",
        "        text = \"\"\n",
        "        for page in reader.pages:\n",
        "            text += page.extract_text() + \"\\n\"\n",
        "    except Exception as e:\n",
        "        print(f\"An error occurred: {e}\")\n",
        "        return None\n",
        "    return text\n",
        "\n",
        "\n",
        "def is_valid_date(date_string, language):\n",
        "    \"\"\"\n",
        "    Checks if the input string is a valid date in the format \"Month Day\"\n",
        "    where the month is a word (e.g., January, February) and the day is a number.\n",
        "    \"\"\"\n",
        "    if language == 'es':\n",
        "        pattern = r\"^(Enero|Febrero|Marzo|Abril|Mayo|Junio|Julio|Agosto|Septiembre|Octubre|Noviembre|Diciembre)\\s+(\\d{1,2})$\"\n",
        "    else:\n",
        "        pattern = r\"^(January|February|March|April|May|June|July|August|September|October|November|December)\\s+(\\d{1,2})$\"\n",
        "\n",
        "    match = re.match(pattern, date_string)\n",
        "    if not match:\n",
        "        return False\n",
        "\n",
        "    month_name = match.group(1)\n",
        "    day = int(match.group(2))\n",
        "\n",
        "    if language == 'es':\n",
        "        return True\n",
        "    else:\n",
        "        try:\n",
        "            datetime.strptime(f\"{month_name} {day}\", \"%B %d\")\n",
        "            return True\n",
        "        except ValueError:\n",
        "            return False\n",
        "\n",
        "\n",
        "def parse_date_string(date_string, language):\n",
        "    \"\"\"Parses a date string into month, day, and year.\n",
        "\n",
        "    Args:\n",
        "      date_string: The date string to parse.  Must be in the format \"Month Day\".\n",
        "\n",
        "    Returns:\n",
        "      A tuple containing the month (string), day (int), and year (int).\n",
        "      Returns None if the date string is invalid.\n",
        "    \"\"\"\n",
        "    if language == 'es':\n",
        "        match = re.match(r\"^(Enero|Febrero|Marzo|Abril|Mayo|Junio|Julio|Agosto|Septiembre|Octubre|Noviembre|Diciembre)\\s+(\\d{1,2})$\", date_string)\n",
        "    else:\n",
        "        match = re.match(r\"^(January|February|March|April|May|June|July|August|September|October|November|December)\\s+(\\d{1,2})$\", date_string)\n",
        "    if not match:\n",
        "        return None\n",
        "    month_name = match.group(1)\n",
        "    day = int(match.group(2))\n",
        "\n",
        "    if language == 'es':\n",
        "        # list of month names\n",
        "        month_names = [\"Enero\", \"Febrero\", \"Marzo\", \"Abril\", \"Mayo\", \"Junio\", \"Julio\", \"Agosto\", \"Septiembre\", \"Octubre\", \"Noviembre\", \"Diciembre\"]\n",
        "        month = month_names.index(month_name)+1\n",
        "        year = datetime.now().year\n",
        "        return month, day, year\n",
        "    elif language == 'en':\n",
        "        try:\n",
        "            date_obj = datetime.strptime(f\"{month_name} {day}\", \"%B %d\")\n",
        "            month = date_obj.strftime(\"%B\")  # Get month name\n",
        "            day = date_obj.day\n",
        "            year = datetime.now().year\n",
        "            return month, day, year\n",
        "        except ValueError:\n",
        "            return None\n",
        "    else:\n",
        "        return None\n",
        "\n",
        "\n",
        "def text_to_ics(text, event_title, language):\n",
        "    calendar = Calendar()\n",
        "    lines = text.split('\\n')\n",
        "    #print(lines)\n",
        "    i=0\n",
        "    while i < len(lines):\n",
        "        line = lines[i]\n",
        "        if is_valid_date(line.strip(), language):\n",
        "            date_parts = parse_date_string(line.strip(), language)\n",
        "            if date_parts is not None:\n",
        "                month, day, year = date_parts\n",
        "                event = Event()\n",
        "                event.name = event_title\n",
        "                if language == 'en':\n",
        "                    event.begin = datetime(year, datetime.strptime(month, \"%B\").month, day, tzinfo=pytz.utc) # set begin time\n",
        "                else:\n",
        "                    event.begin = datetime(year, month, day, tzinfo=pytz.utc) # set begin time\n",
        "                event.make_all_day()\n",
        "                extra_content = ics.utils.ContentLine(name=\"TRANSP\", value=\"TRANSPARENT\")\n",
        "                event.extra.append(extra_content)\n",
        "                # build description until you reach next date\n",
        "                event.description = ''\n",
        "                while i + 1 < len(lines) and not is_valid_date(lines[i + 1].strip(), language) and \"Prices\" not in lines[i + 1] and \"Precios\" not in lines[i + 1]:\n",
        "                    next_line = lines[i + 1].strip()\n",
        "                    nocolons_next_line: str = re.sub(r':', r'', next_line)\n",
        "                    low = nocolons_next_line.lower()\n",
        "                    lemmatized_string = ' '.join([wnl.lemmatize(words) for words in low.split()])\n",
        "                    colons: str = re.sub(r'(\\w*)', r':\\1:', lemmatized_string)\n",
        "                    line = nocolons_next_line + colons\n",
        "                    #print(line)\n",
        "                    with_emojis: str = emoji.emojize(string=line, language=language)\n",
        "                    nocolons: str = re.sub(r':(\\w*):', r'', with_emojis)\n",
        "                    event.description += nocolons + '\\n'\n",
        "                    i += 1\n",
        "                calendar.events.add(event)\n",
        "        else:\n",
        "            i += 1\n",
        "    return calendar\n",
        "\n",
        "\n",
        "def to_file(ics_string, filename):\n",
        "    if ics_string:\n",
        "        # To save to file:\n",
        "        with open(filename, \"w\", newline='', encoding='utf-8') as f:\n",
        "            f.write(ics_string)"
      ]
    },
    {
      "cell_type": "code",
      "source": [
        "# Now we find the menu from the site\n",
        "url = 'https://www.dpsnc.net/Page/7089'\n",
        "baseUrl = 'https://www.dpsnc.net'\n",
        "all_links = get_all_links(url)\n",
        "pdf_files = [file for file in all_links if file.endswith('.pdf')]"
      ],
      "metadata": {
        "id": "9BBqyDrUsjDB"
      },
      "execution_count": 4,
      "outputs": []
    },
    {
      "cell_type": "code",
      "source": [
        "def wrap(baseUrl, pdf_files, language):\n",
        "    if 'en' in language:\n",
        "        relative_url = [file for file in pdf_files if 'ES' in file and 'Lunch' in file and not 'Spanish' in file]\n",
        "        event_title = 'DPS Lunch Menu'  # All events in the calendar will have this title\n",
        "        outfile = 'english.ics'\n",
        "    elif 'es' in language:\n",
        "        relative_url = [file for file in pdf_files if 'ES' in file and 'Lunch' in file and 'Spanish' in file]\n",
        "        event_title = 'DPS Almuerzo Menu'  # All events in the calendar will have this title\n",
        "        outfile = 'espanol.ics'\n",
        "    else:\n",
        "        return False\n",
        "\n",
        "    link = baseUrl + relative_url[0][5:].replace(\" \", \"%20\")\n",
        "    #print(link)\n",
        "    text = url_to_text(link)\n",
        "    #print(text)\n",
        "    cal = text_to_ics(text, event_title, language)\n",
        "    ics_string = cal.serialize()\n",
        "    #print(ics_string)\n",
        "    to_file(ics_string, outfile)\n",
        "\n",
        "    return True"
      ],
      "metadata": {
        "id": "oV_UNjuumeO-"
      },
      "execution_count": 7,
      "outputs": []
    },
    {
      "cell_type": "code",
      "source": [
        "# English code here\n",
        "language = 'en'\n",
        "wrap(baseUrl, pdf_files, language)"
      ],
      "metadata": {
        "id": "cx0gYKQXFt8J",
        "colab": {
          "base_uri": "https://localhost:8080/"
        },
        "outputId": "bc39c9ca-a89c-4ebf-88ad-62227177a2d4"
      },
      "execution_count": 8,
      "outputs": [
        {
          "output_type": "execute_result",
          "data": {
            "text/plain": [
              "True"
            ]
          },
          "metadata": {},
          "execution_count": 8
        }
      ]
    },
    {
      "cell_type": "code",
      "source": [
        "# Spanish code here\n",
        "language = 'es'\n",
        "wrap(baseUrl, pdf_files, language)"
      ],
      "metadata": {
        "id": "dBcKp3R2Ae-i",
        "colab": {
          "base_uri": "https://localhost:8080/"
        },
        "outputId": "e55a7733-dd5f-48ce-fd8b-9655a4ca96f9"
      },
      "execution_count": 9,
      "outputs": [
        {
          "output_type": "execute_result",
          "data": {
            "text/plain": [
              "True"
            ]
          },
          "metadata": {},
          "execution_count": 9
        }
      ]
    }
  ]
}