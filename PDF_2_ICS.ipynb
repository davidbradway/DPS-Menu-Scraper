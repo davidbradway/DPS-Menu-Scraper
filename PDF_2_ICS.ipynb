{
  "nbformat": 4,
  "nbformat_minor": 0,
  "metadata": {
    "colab": {
      "provenance": []
    },
    "kernelspec": {
      "name": "python3",
      "display_name": "Python 3"
    },
    "language_info": {
      "name": "python"
    }
  },
  "cells": [
    {
      "cell_type": "code",
      "source": [
        "# This process is now automated for Elementary school Lunch in English and Spanish.\n",
        "# Just do Runtime > Run all (Ctrl+F9)\n",
        "# Then download the file and import it into Google Calendar, etc. Open the file menu on the left with the folder icon\n",
        "\n",
        "# If the fragile formatting code breaks, I may need to update things.\n",
        "# Also perhaps for a new calendar month format or for a menu type"
      ],
      "metadata": {
        "id": "t-rGiazRIeo_"
      },
      "execution_count": null,
      "outputs": []
    },
    {
      "cell_type": "code",
      "source": [
        "# Install packages and libraries\n",
        "!pip install pypdf ics\n",
        "!pip install emoji nltk\n",
        "!pip install beautifulsoup4 requests"
      ],
      "metadata": {
        "colab": {
          "base_uri": "https://localhost:8080/"
        },
        "id": "HMv6IVNRYdbv",
        "outputId": "3efe6a72-b95c-461b-fb56-6e923dc06c49"
      },
      "execution_count": null,
      "outputs": [
        {
          "output_type": "stream",
          "name": "stdout",
          "text": [
            "Requirement already satisfied: pypdf in /usr/local/lib/python3.11/dist-packages (5.3.0)\n",
            "Requirement already satisfied: ics in /usr/local/lib/python3.11/dist-packages (0.7.2)\n",
            "Requirement already satisfied: python-dateutil in /usr/local/lib/python3.11/dist-packages (from ics) (2.8.2)\n",
            "Requirement already satisfied: arrow>=0.11 in /usr/local/lib/python3.11/dist-packages (from ics) (1.3.0)\n",
            "Requirement already satisfied: six>1.5 in /usr/local/lib/python3.11/dist-packages (from ics) (1.17.0)\n",
            "Requirement already satisfied: tatsu>4.2 in /usr/local/lib/python3.11/dist-packages (from ics) (5.13.1)\n",
            "Requirement already satisfied: attrs>=19.1.0 in /usr/local/lib/python3.11/dist-packages (from ics) (25.1.0)\n",
            "Requirement already satisfied: types-python-dateutil>=2.8.10 in /usr/local/lib/python3.11/dist-packages (from arrow>=0.11->ics) (2.9.0.20241206)\n",
            "Requirement already satisfied: emoji in /usr/local/lib/python3.11/dist-packages (2.14.1)\n",
            "Requirement already satisfied: nltk in /usr/local/lib/python3.11/dist-packages (3.9.1)\n",
            "Requirement already satisfied: click in /usr/local/lib/python3.11/dist-packages (from nltk) (8.1.8)\n",
            "Requirement already satisfied: joblib in /usr/local/lib/python3.11/dist-packages (from nltk) (1.4.2)\n",
            "Requirement already satisfied: regex>=2021.8.3 in /usr/local/lib/python3.11/dist-packages (from nltk) (2024.11.6)\n",
            "Requirement already satisfied: tqdm in /usr/local/lib/python3.11/dist-packages (from nltk) (4.67.1)\n",
            "Requirement already satisfied: beautifulsoup4 in /usr/local/lib/python3.11/dist-packages (4.13.3)\n",
            "Requirement already satisfied: requests in /usr/local/lib/python3.11/dist-packages (2.32.3)\n",
            "Requirement already satisfied: soupsieve>1.2 in /usr/local/lib/python3.11/dist-packages (from beautifulsoup4) (2.6)\n",
            "Requirement already satisfied: typing-extensions>=4.0.0 in /usr/local/lib/python3.11/dist-packages (from beautifulsoup4) (4.12.2)\n",
            "Requirement already satisfied: charset-normalizer<4,>=2 in /usr/local/lib/python3.11/dist-packages (from requests) (3.4.1)\n",
            "Requirement already satisfied: idna<4,>=2.5 in /usr/local/lib/python3.11/dist-packages (from requests) (3.10)\n",
            "Requirement already satisfied: urllib3<3,>=1.21.1 in /usr/local/lib/python3.11/dist-packages (from requests) (2.3.0)\n",
            "Requirement already satisfied: certifi>=2017.4.17 in /usr/local/lib/python3.11/dist-packages (from requests) (2025.1.31)\n"
          ]
        }
      ]
    },
    {
      "cell_type": "code",
      "execution_count": null,
      "metadata": {
        "id": "1HLI6moPX_Tx",
        "colab": {
          "base_uri": "https://localhost:8080/"
        },
        "outputId": "0d5b7e28-04fb-4645-b836-45cbc6f6b433"
      },
      "outputs": [
        {
          "output_type": "stream",
          "name": "stderr",
          "text": [
            "[nltk_data] Downloading package wordnet to /root/nltk_data...\n",
            "[nltk_data]   Package wordnet is already up-to-date!\n"
          ]
        }
      ],
      "source": [
        "# prompt: use pydpf to read text from a pdf at a given url, parse the entries and create an ics-formatted text string for a calendar program import\n",
        "from urllib.request import urlopen\n",
        "from urllib.parse import urlparse, urlunparse, quote\n",
        "from io import BytesIO\n",
        "from pypdf import PdfReader\n",
        "import ics\n",
        "from datetime import datetime\n",
        "import re\n",
        "import pytz\n",
        "import emoji\n",
        "import nltk\n",
        "nltk.download('wordnet')\n",
        "from nltk.stem import WordNetLemmatizer\n",
        "import requests\n",
        "from bs4 import BeautifulSoup\n",
        "\n",
        "\n",
        "def get_all_pdfs(url):\n",
        "    try:\n",
        "        # Send an HTTP GET request to the URL\n",
        "        response = requests.get(url)\n",
        "        # Check if the request was successful\n",
        "        response.raise_for_status()\n",
        "        # Parse the HTML content\n",
        "        soup = BeautifulSoup(response.text, 'html.parser')\n",
        "        # Find all anchor tags and extract the href attribute\n",
        "        links = [a.get('href') for a in soup.find_all('a', href=True)]\n",
        "        pdf_files = list(set([file for file in links if file.endswith('.pdf')]))\n",
        "        return pdf_files\n",
        "    except requests.exceptions.RequestException as e:\n",
        "        print(f\"Error fetching the URL: {e}\")\n",
        "        return []\n",
        "\n",
        "\n",
        "def url_to_text(pdf_url):\n",
        "    try:\n",
        "        remote_file = urlopen(pdf_url).read()\n",
        "        memory_file = BytesIO(remote_file)\n",
        "        reader = PdfReader(memory_file)\n",
        "        text = \"\"\n",
        "        for page in reader.pages:\n",
        "            text += page.extract_text() + \"\\n\"\n",
        "    except Exception as e:\n",
        "        print(f\"An error occurred: {e}\")\n",
        "        return None\n",
        "    return text\n",
        "\n",
        "\n",
        "def is_valid_date(date_string, language):\n",
        "    \"\"\"\n",
        "    Checks if the input string is a valid date in the format \"Month Day\"\n",
        "    where the month is a word (e.g., January, February) and the day is a number.\n",
        "    \"\"\"\n",
        "    if language == 'es':\n",
        "        pattern = r\"^(Enero|Febrero|Marzo|Abril|Mayo|Junio|Julio|Agosto|Septiembre|Octubre|Noviembre|Diciembre)\\s+(\\d{1,2})$\"\n",
        "    else:\n",
        "        pattern = r\"^(January|February|March|April|May|June|July|August|September|October|November|December)\\s+(\\d{1,2})$\"\n",
        "    match = re.match(pattern, date_string)\n",
        "    if not match:\n",
        "        return False\n",
        "    else:\n",
        "        return True\n",
        "\n",
        "\n",
        "def parse_date_string(date_string, language):\n",
        "    \"\"\"Parses a date string into year, month, day.\"\"\"\n",
        "    if language == 'es':\n",
        "        pattern = r\"^(Enero|Febrero|Marzo|Abril|Mayo|Junio|Julio|Agosto|Septiembre|Octubre|Noviembre|Diciembre)\\s+(\\d{1,2})$\"\n",
        "    else:\n",
        "        pattern = r\"^(January|February|March|April|May|June|July|August|September|October|November|December)\\s+(\\d{1,2})$\"\n",
        "    match = re.match(pattern, date_string)\n",
        "    if not match:\n",
        "        return None\n",
        "    month_name = match.group(1)\n",
        "    day = int(match.group(2))\n",
        "\n",
        "    if language == 'es':\n",
        "        year = datetime.now().year\n",
        "        # list of month names\n",
        "        month_names = [\"Enero\", \"Febrero\", \"Marzo\", \"Abril\", \"Mayo\", \"Junio\", \"Julio\", \"Agosto\", \"Septiembre\", \"Octubre\", \"Noviembre\", \"Diciembre\"]\n",
        "        month = month_names.index(month_name)+1\n",
        "        return year, month, day\n",
        "    elif language == 'en':\n",
        "        year = datetime.now().year\n",
        "        month_names = [\"January\", \"February\", \"March\", \"April\", \"May\", \"June\", \"July\", \"August\", \"September\", \"October\", \"November\", \"December\"]\n",
        "        month = month_names.index(month_name)+1\n",
        "        return year, month, day\n",
        "    else:\n",
        "        return None\n",
        "\n",
        "\n",
        "def text_to_ics(text, event_title, language):\n",
        "    # Create WordNetLemmatizer object\n",
        "    wnl = WordNetLemmatizer()\n",
        "\n",
        "    calendar = ics.Calendar()\n",
        "    lines = text.split('\\n')\n",
        "    #print(lines)\n",
        "    i=0\n",
        "    while i < len(lines):\n",
        "        line = lines[i]\n",
        "        if is_valid_date(line.strip(), language):\n",
        "            date_parts = parse_date_string(line.strip(), language)\n",
        "            if date_parts is not None:\n",
        "                year, month, day = date_parts\n",
        "                event = ics.Event()\n",
        "                event.name = event_title\n",
        "                event.begin = datetime(year, month, day, tzinfo=pytz.utc) # set begin time\n",
        "                event.make_all_day()\n",
        "                extra_content = ics.utils.ContentLine(name=\"TRANSP\", value=\"TRANSPARENT\")\n",
        "                event.extra.append(extra_content)\n",
        "                # build description until you reach next date\n",
        "                event.description = ''\n",
        "                while i + 1 < len(lines) and not is_valid_date(lines[i + 1].strip(), language) and \"Prices\" not in lines[i + 1] and \"Precios\" not in lines[i + 1]:\n",
        "                    next_line = lines[i + 1].strip()\n",
        "                    next_line_no_colons: str = re.sub(r':', r'', next_line)\n",
        "                    next_line_no_colons_low = next_line_no_colons.lower()\n",
        "                    lemmatized_string = ' '.join([wnl.lemmatize(words) for words in next_line_no_colons_low.split()])\n",
        "                    with_colons: str = re.sub(r'(\\w*)', r':\\1:', lemmatized_string)\n",
        "                    if language == 'es':\n",
        "                        with_emojis: str = emoji.emojize(string=with_colons, language=language)\n",
        "                    elif language == 'en':\n",
        "                        with_emojis: str = emoji.emojize(string=with_colons, language='alias')\n",
        "                    else:\n",
        "                        return None\n",
        "                    only_emoji: str = ''.join([c for c in with_emojis if c in emoji.EMOJI_DATA])\n",
        "                    line = next_line_no_colons + only_emoji\n",
        "                    #print(line)\n",
        "                    event.description += line + '\\n'\n",
        "                    i += 1\n",
        "                calendar.events.add(event)\n",
        "        else:\n",
        "            i += 1\n",
        "    return calendar\n",
        "\n",
        "\n",
        "def to_file(ics_string, filename):\n",
        "    # Save to file:\n",
        "    if ics_string:\n",
        "        with open(filename, \"w\", newline='', encoding='utf-8') as f:\n",
        "            f.write(ics_string)\n",
        "\n",
        "\n",
        "def wrap(baseUrl, pdf_files, language):\n",
        "    if 'en' in language:\n",
        "        relative_url = [file for file in pdf_files if 'ES' in file and 'Lunch' in file and not 'Spanish' in file]\n",
        "        event_title = 'DPS Lunch Menu'  # All events in the calendar will have this title\n",
        "        outfile = 'english.ics'\n",
        "    elif 'es' in language:\n",
        "        relative_url = [file for file in pdf_files if 'ES' in file and 'Lunch' in file and 'Spanish' in file]\n",
        "        event_title = 'DPS Almuerzo Menu'  # All events in the calendar will have this title\n",
        "        outfile = 'espanol.ics'\n",
        "    else:\n",
        "        return False\n",
        "    link = baseUrl + relative_url[0][5:].replace(\" \", \"%20\")\n",
        "    #print(link)\n",
        "    text = url_to_text(link)\n",
        "    #print(text)\n",
        "    cal = text_to_ics(text, event_title, language)\n",
        "    ics_string = cal.serialize()\n",
        "    #print(ics_string)\n",
        "    to_file(ics_string, outfile)\n",
        "    return True"
      ]
    },
    {
      "cell_type": "code",
      "source": [
        "# Now we find the menu from the site\n",
        "url = 'https://www.dpsnc.net/Page/7089'\n",
        "baseUrl = 'https://www.dpsnc.net'\n",
        "pdf_files = get_all_pdfs(url)\n",
        "pdf_files"
      ],
      "metadata": {
        "id": "9BBqyDrUsjDB",
        "colab": {
          "base_uri": "https://localhost:8080/"
        },
        "outputId": "5324c141-ea38-49cf-e6a4-a5406f44f161"
      },
      "execution_count": null,
      "outputs": [
        {
          "output_type": "execute_result",
          "data": {
            "text/plain": [
              "['../../site/handlers/filedownload.ashx?moduleinstanceid=16101&dataid=116895&FileName=DPS PreK Whitted Breakfast Feb25.pdf',\n",
              " '../../site/handlers/filedownload.ashx?moduleinstanceid=16101&dataid=116900&FileName=DPS K12 ASSP Feb25.pdf',\n",
              " 'https://www.dpsnc.net/cms/lib/NC01911152/Centricity/Domain/4/DPS Parents Guide to Student Achievement Spanish.pdf',\n",
              " '../../site/handlers/filedownload.ashx?moduleinstanceid=16449&dataid=116911&FileName=DPS K12 ASSP Feb25 - Spanish.pdf',\n",
              " '../../site/handlers/filedownload.ashx?moduleinstanceid=16121&dataid=109934&FileName=DPS Breakfast - BIC - Cycle - Carb List.pdf',\n",
              " '../../site/handlers/filedownload.ashx?moduleinstanceid=16101&dataid=116898&FileName=DPS ES Lunch Feb25.pdf',\n",
              " '../../site/handlers/filedownload.ashx?moduleinstanceid=16101&dataid=116896&FileName=DPS HS Lunch Feb25.pdf',\n",
              " '../../site/handlers/filedownload.ashx?moduleinstanceid=16101&dataid=116902&FileName=DPS K12 Breakfast Feb25.pdf',\n",
              " '../../site/handlers/filedownload.ashx?moduleinstanceid=16449&dataid=116916&FileName=DPS K12 Breakfast Feb25 - Spanish.pdf',\n",
              " '../../site/handlers/filedownload.ashx?moduleinstanceid=16449&dataid=116913&FileName=DPS MS Lunch Feb25 - Spanish.pdf',\n",
              " '../../site/handlers/filedownload.ashx?moduleinstanceid=16449&dataid=116915&FileName=DPS BIC Breakfast Feb25 - Spanish.pdf',\n",
              " 'https://www.dpsnc.net/cms/lib/NC01911152/Centricity/Domain/4/DPS Parents Guide to Student Achievement English.pdf',\n",
              " '../../site/handlers/filedownload.ashx?moduleinstanceid=16121&dataid=109935&FileName=DPS Breakfast - HS - Cycle - Carb List.pdf',\n",
              " '../../site/handlers/filedownload.ashx?moduleinstanceid=16449&dataid=116908&FileName=DPS PreK Whitted Snack Feb25 - Spanish.pdf',\n",
              " '../../site/handlers/filedownload.ashx?moduleinstanceid=16121&dataid=109937&FileName=DPS Lunch - HS - Cycle - Carb List.pdf',\n",
              " '../../site/handlers/filedownload.ashx?moduleinstanceid=16449&dataid=116912&FileName=DPS HS Lunch Feb25 - Spanish.pdf',\n",
              " '../../site/handlers/filedownload.ashx?moduleinstanceid=16449&dataid=116910&FileName=DPS PreK Whitted Breakfast Feb25 - Spanish.pdf',\n",
              " '../../site/handlers/filedownload.ashx?moduleinstanceid=16101&dataid=116894&FileName=DPS PreK Whitted Lunch Feb25.pdf',\n",
              " '../../site/handlers/filedownload.ashx?moduleinstanceid=16449&dataid=116909&FileName=DPS PreK Whitted Lunch Feb25 - Spanish.pdf',\n",
              " '../../site/handlers/filedownload.ashx?moduleinstanceid=16449&dataid=116914&FileName=DPS ES Lunch Feb25 - Spanish.pdf',\n",
              " '../../site/handlers/filedownload.ashx?moduleinstanceid=16121&dataid=109938&FileName=DPS k-8 Lunch Spring Menu - Carb Cycle.pdf',\n",
              " '../../site/handlers/filedownload.ashx?moduleinstanceid=16101&dataid=116893&FileName=DPS PreK Whitted Snack Feb25.pdf',\n",
              " '../../site/handlers/filedownload.ashx?moduleinstanceid=16101&dataid=116897&FileName=DPS MS Lunch Feb25.pdf',\n",
              " '../../site/handlers/filedownload.ashx?moduleinstanceid=16101&dataid=116901&FileName=DPS BIC Breakfast Feb25.pdf',\n",
              " '../../site/handlers/filedownload.ashx?moduleinstanceid=16121&dataid=109936&FileName=DPS Breakfast - K8 - Cycle - Carb List.pdf']"
            ]
          },
          "metadata": {},
          "execution_count": 58
        }
      ]
    },
    {
      "cell_type": "code",
      "source": [
        "# English code here\n",
        "wrap(baseUrl, pdf_files, language:='en')"
      ],
      "metadata": {
        "id": "cx0gYKQXFt8J",
        "colab": {
          "base_uri": "https://localhost:8080/"
        },
        "outputId": "d7428924-f2c9-45a9-f0f2-4426ed412f75"
      },
      "execution_count": null,
      "outputs": [
        {
          "output_type": "execute_result",
          "data": {
            "text/plain": [
              "True"
            ]
          },
          "metadata": {},
          "execution_count": 62
        }
      ]
    },
    {
      "cell_type": "code",
      "source": [
        "# Spanish code here\n",
        "wrap(baseUrl, pdf_files, language:='es')"
      ],
      "metadata": {
        "id": "dBcKp3R2Ae-i",
        "colab": {
          "base_uri": "https://localhost:8080/"
        },
        "outputId": "ae6be7db-1c6b-45a6-a74c-8932fa3fbabf"
      },
      "execution_count": null,
      "outputs": [
        {
          "output_type": "execute_result",
          "data": {
            "text/plain": [
              "True"
            ]
          },
          "metadata": {},
          "execution_count": 63
        }
      ]
    }
  ]
}